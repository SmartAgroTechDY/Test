{
 "cells": [
  {
   "cell_type": "code",
   "execution_count": 1,
   "id": "4bf6d807-dcf0-41cf-a123-1554dc316c20",
   "metadata": {},
   "outputs": [],
   "source": [
    "import tensorflow as tf\n"
   ]
  },
  {
   "cell_type": "code",
   "execution_count": 2,
   "id": "12150410-0a1a-4ae6-bc09-d8dfc6fe03b0",
   "metadata": {},
   "outputs": [
    {
     "name": "stderr",
     "output_type": "stream",
     "text": [
      "WARNING:absl:Skipping variable loading for optimizer 'Adam', because it has 49 variables whereas the saved optimizer has 1 variables. \n"
     ]
    }
   ],
   "source": [
    "model = tf.keras.models.load_model('TomatoModel.h5')"
   ]
  },
  {
   "cell_type": "code",
   "execution_count": 3,
   "id": "8d7aa830-4ae0-46bf-97c6-a898545a6838",
   "metadata": {},
   "outputs": [
    {
     "name": "stdout",
     "output_type": "stream",
     "text": [
      "INFO:tensorflow:Assets written to: C:\\Users\\RE\\AppData\\Local\\Temp\\tmpm3y1ik06\\assets\n"
     ]
    },
    {
     "name": "stderr",
     "output_type": "stream",
     "text": [
      "INFO:tensorflow:Assets written to: C:\\Users\\RE\\AppData\\Local\\Temp\\tmpm3y1ik06\\assets\n"
     ]
    }
   ],
   "source": [
    "# Step 2: Convert the Keras model to TFLite format\n",
    "converter = tf.lite.TFLiteConverter.from_keras_model(model)\n",
    "tflite_model = converter.convert()\n",
    "\n",
    "# Step 3: Save the converted TFLite model to a file\n",
    "with open('TomatoModel.tflite', 'wb') as f:\n",
    "    f.write(tflite_model)"
   ]
  },
  {
   "cell_type": "code",
   "execution_count": null,
   "id": "e96e781e-5039-4681-83cd-a62ea872f772",
   "metadata": {},
   "outputs": [],
   "source": []
  }
 ],
 "metadata": {
  "kernelspec": {
   "display_name": "Python 3 (ipykernel)",
   "language": "python",
   "name": "python3"
  },
  "language_info": {
   "codemirror_mode": {
    "name": "ipython",
    "version": 3
   },
   "file_extension": ".py",
   "mimetype": "text/x-python",
   "name": "python",
   "nbconvert_exporter": "python",
   "pygments_lexer": "ipython3",
   "version": "3.8.6"
  }
 },
 "nbformat": 4,
 "nbformat_minor": 5
}
