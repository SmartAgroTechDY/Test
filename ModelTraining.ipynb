{
 "cells": [
  {
   "cell_type": "code",
   "execution_count": 1,
   "id": "376ed175-7980-4965-a5cb-48337f2f443a",
   "metadata": {},
   "outputs": [],
   "source": [
    "import tensorflow as tf\n",
    "from tensorflow.keras.preprocessing.image import ImageDataGenerator\n",
    "from tensorflow.keras.models import Sequential\n",
    "from tensorflow.keras.layers import Conv2D, MaxPooling2D, Flatten, Dense, Dropout, BatchNormalization\n",
    "from tensorflow.keras.callbacks import EarlyStopping, ModelCheckpoint, ReduceLROnPlateau\n"
   ]
  },
  {
   "cell_type": "code",
   "execution_count": 2,
   "id": "8e74de79-1522-4c14-b7ca-c41e678e9df8",
   "metadata": {},
   "outputs": [],
   "source": [
    "base_dir = 'tomato_new'\n",
    "img_height, img_width = 224, 224  \n",
    "batch_size = 32  "
   ]
  },
  {
   "cell_type": "code",
   "execution_count": 3,
   "id": "ce4ae2b9-7169-4199-90c9-159304c67a12",
   "metadata": {},
   "outputs": [],
   "source": [
    "datagen = ImageDataGenerator(\n",
    "    rescale=1./255,\n",
    "    validation_split=0.2,\n",
    "    shear_range=0.2,\n",
    "    zoom_range=0.2,\n",
    "    rotation_range=40,\n",
    "    width_shift_range=0.2,\n",
    "    height_shift_range=0.2,\n",
    "    horizontal_flip=True,\n",
    "    fill_mode='nearest'\n",
    ")"
   ]
  },
  {
   "cell_type": "code",
   "execution_count": 4,
   "id": "43665f31-e92a-41d7-8869-6e01d301ade0",
   "metadata": {},
   "outputs": [
    {
     "name": "stdout",
     "output_type": "stream",
     "text": [
      "Found 8800 images belonging to 10 classes.\n"
     ]
    }
   ],
   "source": [
    "train_generator = datagen.flow_from_directory(\n",
    "    base_dir,\n",
    "    target_size=(img_height, img_width),\n",
    "    batch_size=batch_size,\n",
    "    class_mode='categorical',\n",
    "    subset='training',\n",
    "    shuffle=True,\n",
    "    seed=42\n",
    ")"
   ]
  },
  {
   "cell_type": "code",
   "execution_count": 5,
   "id": "948f9b4c-9cb6-4db7-bd97-f569ac695720",
   "metadata": {},
   "outputs": [
    {
     "name": "stdout",
     "output_type": "stream",
     "text": [
      "Found 2200 images belonging to 10 classes.\n"
     ]
    }
   ],
   "source": [
    "validation_generator = datagen.flow_from_directory(\n",
    "    base_dir,\n",
    "    target_size=(img_height, img_width),\n",
    "    batch_size=batch_size,\n",
    "    class_mode='categorical',\n",
    "    subset='validation',\n",
    "    shuffle=False\n",
    ")"
   ]
  },
  {
   "cell_type": "code",
   "execution_count": 6,
   "id": "48bfc78b-72b4-465e-af93-7680208dfdf5",
   "metadata": {},
   "outputs": [],
   "source": [
    "def create_model():\n",
    "    model = Sequential([\n",
    "        # 1st Convolutional Block\n",
    "        Conv2D(32, (3, 3), activation='relu', input_shape=(img_height, img_width, 3)),\n",
    "        BatchNormalization(),\n",
    "        \n",
    "        # 2nd Convolutional Block\n",
    "        Conv2D(64, (3, 3), activation='relu'),\n",
    "        BatchNormalization(),\n",
    "        MaxPooling2D((2, 2)),\n",
    "\n",
    "        # 3rd Convolutional Block\n",
    "        Conv2D(128, (3, 3), activation='relu'),\n",
    "        BatchNormalization(),\n",
    "        \n",
    "        # 4th Convolutional Block\n",
    "        Conv2D(128, (3, 3), activation='relu'),\n",
    "        BatchNormalization(),\n",
    "        MaxPooling2D((2, 2)),\n",
    "        \n",
    "        # 5th Convolutional Block\n",
    "        Conv2D(256, (3, 3), activation='relu'),\n",
    "        BatchNormalization(),\n",
    "        \n",
    "        # 6th Convolutional Block\n",
    "        Conv2D(256, (3, 3), activation='relu'),\n",
    "        BatchNormalization(),\n",
    "        MaxPooling2D((2, 2)),\n",
    "\n",
    "        # 7th Convolutional Block\n",
    "        Conv2D(512, (3, 3), activation='relu'),\n",
    "        BatchNormalization(),\n",
    "\n",
    "        # 8th Convolutional Block\n",
    "        Conv2D(512, (3, 3), activation='relu'),\n",
    "        BatchNormalization(),\n",
    "        MaxPooling2D((2, 2)),\n",
    "\n",
    "        # Flatten Layer\n",
    "        Flatten(),\n",
    "\n",
    "        # Dense Layers\n",
    "        Dense(512, activation='relu'),\n",
    "        Dropout(0.5),\n",
    "        Dense(10, activation='softmax')  # Update to 10 classes for tomatoes\n",
    "    ])\n",
    "    \n",
    "    model.compile(optimizer='adam', loss='categorical_crossentropy', metrics=['accuracy'])\n",
    "    return model"
   ]
  },
  {
   "cell_type": "code",
   "execution_count": 7,
   "id": "fd0ea8fd-16f2-4e99-9bb4-5c910ae50b69",
   "metadata": {},
   "outputs": [],
   "source": [
    "model = create_model()"
   ]
  },
  {
   "cell_type": "code",
   "execution_count": 8,
   "id": "8e545bd3-979e-4387-9a30-ca7443c0e2c7",
   "metadata": {},
   "outputs": [],
   "source": [
    "early_stopping = EarlyStopping(monitor='val_loss', patience=10, restore_best_weights=True)\n",
    "model_checkpoint = ModelCheckpoint('best_model_tomato23.kears', save_best_only=True, monitor='val_loss')\n",
    "reduce_lr = ReduceLROnPlateau(monitor='val_loss', factor=0.2, patience=5, min_lr=0.0001)"
   ]
  },
  {
   "cell_type": "code",
   "execution_count": 9,
   "id": "96e3200d-c6e9-4fae-aa55-c7403154b290",
   "metadata": {},
   "outputs": [
    {
     "name": "stdout",
     "output_type": "stream",
     "text": [
      "Epoch 1/75\n",
      "275/275 [==============================] - ETA: 0s - loss: 7.2465 - accuracy: 0.2343INFO:tensorflow:Assets written to: best_model_tomato23.kears\\assets\n"
     ]
    },
    {
     "name": "stderr",
     "output_type": "stream",
     "text": [
      "INFO:tensorflow:Assets written to: best_model_tomato23.kears\\assets\n"
     ]
    },
    {
     "name": "stdout",
     "output_type": "stream",
     "text": [
      "275/275 [==============================] - 1122s 4s/step - loss: 7.2465 - accuracy: 0.2343 - val_loss: 7.8046 - val_accuracy: 0.1005 - lr: 0.0010\n",
      "Epoch 2/75\n",
      "275/275 [==============================] - ETA: 0s - loss: 2.2296 - accuracy: 0.2895INFO:tensorflow:Assets written to: best_model_tomato23.kears\\assets\n"
     ]
    },
    {
     "name": "stderr",
     "output_type": "stream",
     "text": [
      "INFO:tensorflow:Assets written to: best_model_tomato23.kears\\assets\n"
     ]
    },
    {
     "name": "stdout",
     "output_type": "stream",
     "text": [
      "275/275 [==============================] - 1139s 4s/step - loss: 2.2296 - accuracy: 0.2895 - val_loss: 4.0323 - val_accuracy: 0.2173 - lr: 0.0010\n",
      "Epoch 3/75\n",
      "275/275 [==============================] - ETA: 0s - loss: 1.8333 - accuracy: 0.3731INFO:tensorflow:Assets written to: best_model_tomato23.kears\\assets\n"
     ]
    },
    {
     "name": "stderr",
     "output_type": "stream",
     "text": [
      "INFO:tensorflow:Assets written to: best_model_tomato23.kears\\assets\n"
     ]
    },
    {
     "name": "stdout",
     "output_type": "stream",
     "text": [
      "275/275 [==============================] - 1142s 4s/step - loss: 1.8333 - accuracy: 0.3731 - val_loss: 1.7883 - val_accuracy: 0.4091 - lr: 0.0010\n",
      "Epoch 4/75\n",
      "275/275 [==============================] - 1139s 4s/step - loss: 1.7201 - accuracy: 0.4092 - val_loss: 2.5335 - val_accuracy: 0.3377 - lr: 0.0010\n",
      "Epoch 5/75\n",
      "275/275 [==============================] - 1127s 4s/step - loss: 1.6601 - accuracy: 0.4398 - val_loss: 4.2195 - val_accuracy: 0.2573 - lr: 0.0010\n",
      "Epoch 6/75\n",
      "275/275 [==============================] - 1139s 4s/step - loss: 1.6032 - accuracy: 0.4512 - val_loss: 4.2826 - val_accuracy: 0.2850 - lr: 0.0010\n",
      "Epoch 7/75\n",
      "275/275 [==============================] - ETA: 0s - loss: 1.4837 - accuracy: 0.4825INFO:tensorflow:Assets written to: best_model_tomato23.kears\\assets\n"
     ]
    },
    {
     "name": "stderr",
     "output_type": "stream",
     "text": [
      "INFO:tensorflow:Assets written to: best_model_tomato23.kears\\assets\n"
     ]
    },
    {
     "name": "stdout",
     "output_type": "stream",
     "text": [
      "275/275 [==============================] - 1147s 4s/step - loss: 1.4837 - accuracy: 0.4825 - val_loss: 1.7246 - val_accuracy: 0.4900 - lr: 0.0010\n",
      "Epoch 8/75\n",
      "275/275 [==============================] - 1149s 4s/step - loss: 1.4507 - accuracy: 0.5010 - val_loss: 4.7826 - val_accuracy: 0.3318 - lr: 0.0010\n",
      "Epoch 9/75\n",
      "275/275 [==============================] - 1150s 4s/step - loss: 1.3552 - accuracy: 0.5190 - val_loss: 3.9550 - val_accuracy: 0.3327 - lr: 0.0010\n",
      "Epoch 10/75\n",
      "275/275 [==============================] - 1157s 4s/step - loss: 1.3868 - accuracy: 0.5226 - val_loss: 2.5858 - val_accuracy: 0.5227 - lr: 0.0010\n",
      "Epoch 11/75\n",
      "275/275 [==============================] - ETA: 0s - loss: 1.3043 - accuracy: 0.5450INFO:tensorflow:Assets written to: best_model_tomato23.kears\\assets\n"
     ]
    },
    {
     "name": "stderr",
     "output_type": "stream",
     "text": [
      "INFO:tensorflow:Assets written to: best_model_tomato23.kears\\assets\n"
     ]
    },
    {
     "name": "stdout",
     "output_type": "stream",
     "text": [
      "275/275 [==============================] - 1157s 4s/step - loss: 1.3043 - accuracy: 0.5450 - val_loss: 1.4763 - val_accuracy: 0.5495 - lr: 0.0010\n",
      "Epoch 12/75\n",
      "275/275 [==============================] - 1151s 4s/step - loss: 1.3407 - accuracy: 0.5364 - val_loss: 1.6843 - val_accuracy: 0.4414 - lr: 0.0010\n",
      "Epoch 13/75\n",
      "275/275 [==============================] - 1150s 4s/step - loss: 1.2902 - accuracy: 0.5489 - val_loss: 2.0788 - val_accuracy: 0.4095 - lr: 0.0010\n",
      "Epoch 14/75\n",
      "275/275 [==============================] - 1151s 4s/step - loss: 1.2351 - accuracy: 0.5680 - val_loss: 3.6802 - val_accuracy: 0.3855 - lr: 0.0010\n",
      "Epoch 15/75\n",
      "275/275 [==============================] - ETA: 0s - loss: 1.2226 - accuracy: 0.5716INFO:tensorflow:Assets written to: best_model_tomato23.kears\\assets\n"
     ]
    },
    {
     "name": "stderr",
     "output_type": "stream",
     "text": [
      "INFO:tensorflow:Assets written to: best_model_tomato23.kears\\assets\n"
     ]
    },
    {
     "name": "stdout",
     "output_type": "stream",
     "text": [
      "275/275 [==============================] - 1152s 4s/step - loss: 1.2226 - accuracy: 0.5716 - val_loss: 1.3430 - val_accuracy: 0.5641 - lr: 0.0010\n",
      "Epoch 16/75\n",
      "275/275 [==============================] - 1137s 4s/step - loss: 1.1991 - accuracy: 0.5852 - val_loss: 2.2699 - val_accuracy: 0.4659 - lr: 0.0010\n",
      "Epoch 17/75\n",
      "275/275 [==============================] - 1150s 4s/step - loss: 1.2115 - accuracy: 0.5814 - val_loss: 1.8116 - val_accuracy: 0.6377 - lr: 0.0010\n",
      "Epoch 18/75\n",
      "275/275 [==============================] - 1160s 4s/step - loss: 1.1320 - accuracy: 0.6062 - val_loss: 1.8296 - val_accuracy: 0.5214 - lr: 0.0010\n",
      "Epoch 19/75\n",
      "275/275 [==============================] - 1155s 4s/step - loss: 1.0917 - accuracy: 0.6209 - val_loss: 2.2131 - val_accuracy: 0.5436 - lr: 0.0010\n",
      "Epoch 20/75\n",
      "275/275 [==============================] - ETA: 0s - loss: 1.0860 - accuracy: 0.6255INFO:tensorflow:Assets written to: best_model_tomato23.kears\\assets\n"
     ]
    },
    {
     "name": "stderr",
     "output_type": "stream",
     "text": [
      "INFO:tensorflow:Assets written to: best_model_tomato23.kears\\assets\n"
     ]
    },
    {
     "name": "stdout",
     "output_type": "stream",
     "text": [
      "275/275 [==============================] - 1167s 4s/step - loss: 1.0860 - accuracy: 0.6255 - val_loss: 1.2306 - val_accuracy: 0.6477 - lr: 0.0010\n",
      "Epoch 21/75\n",
      "275/275 [==============================] - 1156s 4s/step - loss: 1.1075 - accuracy: 0.6241 - val_loss: 4.4224 - val_accuracy: 0.3145 - lr: 0.0010\n",
      "Epoch 22/75\n",
      "275/275 [==============================] - ETA: 0s - loss: 1.0587 - accuracy: 0.6349INFO:tensorflow:Assets written to: best_model_tomato23.kears\\assets\n"
     ]
    },
    {
     "name": "stderr",
     "output_type": "stream",
     "text": [
      "INFO:tensorflow:Assets written to: best_model_tomato23.kears\\assets\n"
     ]
    },
    {
     "name": "stdout",
     "output_type": "stream",
     "text": [
      "275/275 [==============================] - 1151s 4s/step - loss: 1.0587 - accuracy: 0.6349 - val_loss: 1.0469 - val_accuracy: 0.6664 - lr: 0.0010\n",
      "Epoch 23/75\n",
      "275/275 [==============================] - 1165s 4s/step - loss: 1.0434 - accuracy: 0.6328 - val_loss: 2.2862 - val_accuracy: 0.5591 - lr: 0.0010\n",
      "Epoch 24/75\n",
      "275/275 [==============================] - 1154s 4s/step - loss: 0.9870 - accuracy: 0.6593 - val_loss: 4.1662 - val_accuracy: 0.3973 - lr: 0.0010\n",
      "Epoch 25/75\n",
      "275/275 [==============================] - 1158s 4s/step - loss: 0.9758 - accuracy: 0.6615 - val_loss: 2.9559 - val_accuracy: 0.4423 - lr: 0.0010\n",
      "Epoch 26/75\n",
      "275/275 [==============================] - 1157s 4s/step - loss: 0.9669 - accuracy: 0.6744 - val_loss: 3.0717 - val_accuracy: 0.4964 - lr: 0.0010\n",
      "Epoch 27/75\n",
      "275/275 [==============================] - ETA: 0s - loss: 0.9107 - accuracy: 0.6945INFO:tensorflow:Assets written to: best_model_tomato23.kears\\assets\n"
     ]
    },
    {
     "name": "stderr",
     "output_type": "stream",
     "text": [
      "INFO:tensorflow:Assets written to: best_model_tomato23.kears\\assets\n"
     ]
    },
    {
     "name": "stdout",
     "output_type": "stream",
     "text": [
      "275/275 [==============================] - 1154s 4s/step - loss: 0.9107 - accuracy: 0.6945 - val_loss: 0.8706 - val_accuracy: 0.7286 - lr: 0.0010\n",
      "Epoch 28/75\n",
      "275/275 [==============================] - 1170s 4s/step - loss: 0.8301 - accuracy: 0.7152 - val_loss: 2.2830 - val_accuracy: 0.5350 - lr: 0.0010\n",
      "Epoch 29/75\n",
      "275/275 [==============================] - 1179s 4s/step - loss: 0.8504 - accuracy: 0.7186 - val_loss: 1.5975 - val_accuracy: 0.6200 - lr: 0.0010\n",
      "Epoch 30/75\n",
      "275/275 [==============================] - 1165s 4s/step - loss: 0.7953 - accuracy: 0.7322 - val_loss: 3.7973 - val_accuracy: 0.2927 - lr: 0.0010\n",
      "Epoch 31/75\n",
      "275/275 [==============================] - 1167s 4s/step - loss: 0.7816 - accuracy: 0.7318 - val_loss: 1.0766 - val_accuracy: 0.7118 - lr: 0.0010\n",
      "Epoch 32/75\n",
      "275/275 [==============================] - 1171s 4s/step - loss: 0.7571 - accuracy: 0.7401 - val_loss: 1.9576 - val_accuracy: 0.5432 - lr: 0.0010\n",
      "Epoch 33/75\n",
      "275/275 [==============================] - ETA: 0s - loss: 0.6182 - accuracy: 0.7886INFO:tensorflow:Assets written to: best_model_tomato23.kears\\assets\n"
     ]
    },
    {
     "name": "stderr",
     "output_type": "stream",
     "text": [
      "INFO:tensorflow:Assets written to: best_model_tomato23.kears\\assets\n"
     ]
    },
    {
     "name": "stdout",
     "output_type": "stream",
     "text": [
      "275/275 [==============================] - 1171s 4s/step - loss: 0.6182 - accuracy: 0.7886 - val_loss: 0.3296 - val_accuracy: 0.8891 - lr: 2.0000e-04\n",
      "Epoch 34/75\n",
      "275/275 [==============================] - ETA: 0s - loss: 0.5549 - accuracy: 0.8047INFO:tensorflow:Assets written to: best_model_tomato23.kears\\assets\n"
     ]
    },
    {
     "name": "stderr",
     "output_type": "stream",
     "text": [
      "INFO:tensorflow:Assets written to: best_model_tomato23.kears\\assets\n"
     ]
    },
    {
     "name": "stdout",
     "output_type": "stream",
     "text": [
      "275/275 [==============================] - 1164s 4s/step - loss: 0.5549 - accuracy: 0.8047 - val_loss: 0.3152 - val_accuracy: 0.8973 - lr: 2.0000e-04\n",
      "Epoch 35/75\n",
      "275/275 [==============================] - ETA: 0s - loss: 0.5379 - accuracy: 0.8133INFO:tensorflow:Assets written to: best_model_tomato23.kears\\assets\n"
     ]
    },
    {
     "name": "stderr",
     "output_type": "stream",
     "text": [
      "INFO:tensorflow:Assets written to: best_model_tomato23.kears\\assets\n"
     ]
    },
    {
     "name": "stdout",
     "output_type": "stream",
     "text": [
      "275/275 [==============================] - 1180s 4s/step - loss: 0.5379 - accuracy: 0.8133 - val_loss: 0.3053 - val_accuracy: 0.8991 - lr: 2.0000e-04\n",
      "Epoch 36/75\n",
      "275/275 [==============================] - 1169s 4s/step - loss: 0.5268 - accuracy: 0.8263 - val_loss: 0.5666 - val_accuracy: 0.8264 - lr: 2.0000e-04\n",
      "Epoch 37/75\n",
      "275/275 [==============================] - ETA: 0s - loss: 0.5070 - accuracy: 0.8247INFO:tensorflow:Assets written to: best_model_tomato23.kears\\assets\n"
     ]
    },
    {
     "name": "stderr",
     "output_type": "stream",
     "text": [
      "INFO:tensorflow:Assets written to: best_model_tomato23.kears\\assets\n"
     ]
    },
    {
     "name": "stdout",
     "output_type": "stream",
     "text": [
      "275/275 [==============================] - 1160s 4s/step - loss: 0.5070 - accuracy: 0.8247 - val_loss: 0.2679 - val_accuracy: 0.9145 - lr: 2.0000e-04\n",
      "Epoch 38/75\n",
      "275/275 [==============================] - 1199s 4s/step - loss: 0.4910 - accuracy: 0.8317 - val_loss: 0.2812 - val_accuracy: 0.9036 - lr: 2.0000e-04\n",
      "Epoch 39/75\n",
      "275/275 [==============================] - ETA: 0s - loss: 0.4766 - accuracy: 0.8388INFO:tensorflow:Assets written to: best_model_tomato23.kears\\assets\n"
     ]
    },
    {
     "name": "stderr",
     "output_type": "stream",
     "text": [
      "INFO:tensorflow:Assets written to: best_model_tomato23.kears\\assets\n"
     ]
    },
    {
     "name": "stdout",
     "output_type": "stream",
     "text": [
      "275/275 [==============================] - 1213s 4s/step - loss: 0.4766 - accuracy: 0.8388 - val_loss: 0.2033 - val_accuracy: 0.9341 - lr: 2.0000e-04\n",
      "Epoch 40/75\n",
      "275/275 [==============================] - 1191s 4s/step - loss: 0.4790 - accuracy: 0.8442 - val_loss: 1.2882 - val_accuracy: 0.6900 - lr: 2.0000e-04\n",
      "Epoch 41/75\n",
      "275/275 [==============================] - 1187s 4s/step - loss: 0.4409 - accuracy: 0.8517 - val_loss: 0.3440 - val_accuracy: 0.8850 - lr: 2.0000e-04\n",
      "Epoch 42/75\n",
      "275/275 [==============================] - 1184s 4s/step - loss: 0.4498 - accuracy: 0.8492 - val_loss: 0.3642 - val_accuracy: 0.8764 - lr: 2.0000e-04\n",
      "Epoch 43/75\n",
      "275/275 [==============================] - 1184s 4s/step - loss: 0.4204 - accuracy: 0.8614 - val_loss: 0.4224 - val_accuracy: 0.8550 - lr: 2.0000e-04\n",
      "Epoch 44/75\n",
      "275/275 [==============================] - 1182s 4s/step - loss: 0.4327 - accuracy: 0.8584 - val_loss: 0.3286 - val_accuracy: 0.8941 - lr: 2.0000e-04\n",
      "Epoch 45/75\n",
      "275/275 [==============================] - ETA: 0s - loss: 0.3828 - accuracy: 0.8737INFO:tensorflow:Assets written to: best_model_tomato23.kears\\assets\n"
     ]
    },
    {
     "name": "stderr",
     "output_type": "stream",
     "text": [
      "INFO:tensorflow:Assets written to: best_model_tomato23.kears\\assets\n"
     ]
    },
    {
     "name": "stdout",
     "output_type": "stream",
     "text": [
      "275/275 [==============================] - 1180s 4s/step - loss: 0.3828 - accuracy: 0.8737 - val_loss: 0.1640 - val_accuracy: 0.9505 - lr: 1.0000e-04\n",
      "Epoch 46/75\n",
      "275/275 [==============================] - 1206s 4s/step - loss: 0.3741 - accuracy: 0.8770 - val_loss: 0.2114 - val_accuracy: 0.9305 - lr: 1.0000e-04\n",
      "Epoch 47/75\n",
      "275/275 [==============================] - ETA: 0s - loss: 0.3630 - accuracy: 0.8813INFO:tensorflow:Assets written to: best_model_tomato23.kears\\assets\n"
     ]
    },
    {
     "name": "stderr",
     "output_type": "stream",
     "text": [
      "INFO:tensorflow:Assets written to: best_model_tomato23.kears\\assets\n"
     ]
    },
    {
     "name": "stdout",
     "output_type": "stream",
     "text": [
      "275/275 [==============================] - 1230s 4s/step - loss: 0.3630 - accuracy: 0.8813 - val_loss: 0.1488 - val_accuracy: 0.9568 - lr: 1.0000e-04\n",
      "Epoch 48/75\n",
      "275/275 [==============================] - 1208s 4s/step - loss: 0.3570 - accuracy: 0.8847 - val_loss: 0.1629 - val_accuracy: 0.9473 - lr: 1.0000e-04\n",
      "Epoch 49/75\n",
      "275/275 [==============================] - 1208s 4s/step - loss: 0.3503 - accuracy: 0.8843 - val_loss: 0.1531 - val_accuracy: 0.9518 - lr: 1.0000e-04\n",
      "Epoch 50/75\n",
      "275/275 [==============================] - 1212s 4s/step - loss: 0.3423 - accuracy: 0.8880 - val_loss: 0.1912 - val_accuracy: 0.9368 - lr: 1.0000e-04\n",
      "Epoch 51/75\n",
      "275/275 [==============================] - 1211s 4s/step - loss: 0.3407 - accuracy: 0.8886 - val_loss: 0.1580 - val_accuracy: 0.9500 - lr: 1.0000e-04\n",
      "Epoch 52/75\n",
      "275/275 [==============================] - ETA: 0s - loss: 0.3449 - accuracy: 0.8841INFO:tensorflow:Assets written to: best_model_tomato23.kears\\assets\n"
     ]
    },
    {
     "name": "stderr",
     "output_type": "stream",
     "text": [
      "INFO:tensorflow:Assets written to: best_model_tomato23.kears\\assets\n"
     ]
    },
    {
     "name": "stdout",
     "output_type": "stream",
     "text": [
      "275/275 [==============================] - 1204s 4s/step - loss: 0.3449 - accuracy: 0.8841 - val_loss: 0.1359 - val_accuracy: 0.9614 - lr: 1.0000e-04\n",
      "Epoch 53/75\n",
      "275/275 [==============================] - 1168s 4s/step - loss: 0.3211 - accuracy: 0.8948 - val_loss: 0.1572 - val_accuracy: 0.9491 - lr: 1.0000e-04\n",
      "Epoch 54/75\n",
      "275/275 [==============================] - 1178s 4s/step - loss: 0.3338 - accuracy: 0.8890 - val_loss: 0.1532 - val_accuracy: 0.9491 - lr: 1.0000e-04\n",
      "Epoch 55/75\n",
      "275/275 [==============================] - 1184s 4s/step - loss: 0.3273 - accuracy: 0.8897 - val_loss: 0.1404 - val_accuracy: 0.9573 - lr: 1.0000e-04\n",
      "Epoch 56/75\n",
      "275/275 [==============================] - 1209s 4s/step - loss: 0.3102 - accuracy: 0.8972 - val_loss: 0.1390 - val_accuracy: 0.9573 - lr: 1.0000e-04\n",
      "Epoch 57/75\n",
      "275/275 [==============================] - 1190s 4s/step - loss: 0.3104 - accuracy: 0.8942 - val_loss: 0.1560 - val_accuracy: 0.9495 - lr: 1.0000e-04\n",
      "Epoch 58/75\n",
      "275/275 [==============================] - ETA: 0s - loss: 0.2926 - accuracy: 0.9045INFO:tensorflow:Assets written to: best_model_tomato23.kears\\assets\n"
     ]
    },
    {
     "name": "stderr",
     "output_type": "stream",
     "text": [
      "INFO:tensorflow:Assets written to: best_model_tomato23.kears\\assets\n"
     ]
    },
    {
     "name": "stdout",
     "output_type": "stream",
     "text": [
      "275/275 [==============================] - 1192s 4s/step - loss: 0.2926 - accuracy: 0.9045 - val_loss: 0.1286 - val_accuracy: 0.9645 - lr: 1.0000e-04\n",
      "Epoch 59/75\n",
      "275/275 [==============================] - 1245s 5s/step - loss: 0.2974 - accuracy: 0.9023 - val_loss: 0.1966 - val_accuracy: 0.9309 - lr: 1.0000e-04\n",
      "Epoch 60/75\n",
      "275/275 [==============================] - 1243s 5s/step - loss: 0.2880 - accuracy: 0.9010 - val_loss: 0.1866 - val_accuracy: 0.9391 - lr: 1.0000e-04\n",
      "Epoch 61/75\n",
      "275/275 [==============================] - 1235s 4s/step - loss: 0.2912 - accuracy: 0.9006 - val_loss: 0.1802 - val_accuracy: 0.9459 - lr: 1.0000e-04\n",
      "Epoch 62/75\n",
      "275/275 [==============================] - ETA: 0s - loss: 0.2819 - accuracy: 0.9093INFO:tensorflow:Assets written to: best_model_tomato23.kears\\assets\n"
     ]
    },
    {
     "name": "stderr",
     "output_type": "stream",
     "text": [
      "INFO:tensorflow:Assets written to: best_model_tomato23.kears\\assets\n"
     ]
    },
    {
     "name": "stdout",
     "output_type": "stream",
     "text": [
      "275/275 [==============================] - 1236s 4s/step - loss: 0.2819 - accuracy: 0.9093 - val_loss: 0.1206 - val_accuracy: 0.9618 - lr: 1.0000e-04\n",
      "Epoch 63/75\n",
      "275/275 [==============================] - 1229s 4s/step - loss: 0.2793 - accuracy: 0.9107 - val_loss: 0.1778 - val_accuracy: 0.9436 - lr: 1.0000e-04\n",
      "Epoch 64/75\n",
      "275/275 [==============================] - 1228s 4s/step - loss: 0.2751 - accuracy: 0.9110 - val_loss: 0.1451 - val_accuracy: 0.9523 - lr: 1.0000e-04\n",
      "Epoch 65/75\n",
      "275/275 [==============================] - 1238s 5s/step - loss: 0.2654 - accuracy: 0.9149 - val_loss: 0.1801 - val_accuracy: 0.9459 - lr: 1.0000e-04\n",
      "Epoch 66/75\n",
      "275/275 [==============================] - ETA: 0s - loss: 0.2538 - accuracy: 0.9136INFO:tensorflow:Assets written to: best_model_tomato23.kears\\assets\n"
     ]
    },
    {
     "name": "stderr",
     "output_type": "stream",
     "text": [
      "INFO:tensorflow:Assets written to: best_model_tomato23.kears\\assets\n"
     ]
    },
    {
     "name": "stdout",
     "output_type": "stream",
     "text": [
      "275/275 [==============================] - 1245s 5s/step - loss: 0.2538 - accuracy: 0.9136 - val_loss: 0.1153 - val_accuracy: 0.9641 - lr: 1.0000e-04\n",
      "Epoch 67/75\n",
      "275/275 [==============================] - 1230s 4s/step - loss: 0.2650 - accuracy: 0.9187 - val_loss: 0.1533 - val_accuracy: 0.9482 - lr: 1.0000e-04\n",
      "Epoch 68/75\n",
      "275/275 [==============================] - 1226s 4s/step - loss: 0.2597 - accuracy: 0.9187 - val_loss: 0.1255 - val_accuracy: 0.9591 - lr: 1.0000e-04\n",
      "Epoch 69/75\n",
      "275/275 [==============================] - ETA: 0s - loss: 0.2443 - accuracy: 0.9218INFO:tensorflow:Assets written to: best_model_tomato23.kears\\assets\n"
     ]
    },
    {
     "name": "stderr",
     "output_type": "stream",
     "text": [
      "INFO:tensorflow:Assets written to: best_model_tomato23.kears\\assets\n"
     ]
    },
    {
     "name": "stdout",
     "output_type": "stream",
     "text": [
      "275/275 [==============================] - 1230s 4s/step - loss: 0.2443 - accuracy: 0.9218 - val_loss: 0.1034 - val_accuracy: 0.9700 - lr: 1.0000e-04\n",
      "Epoch 70/75\n",
      "275/275 [==============================] - ETA: 0s - loss: 0.2326 - accuracy: 0.9220INFO:tensorflow:Assets written to: best_model_tomato23.kears\\assets\n"
     ]
    },
    {
     "name": "stderr",
     "output_type": "stream",
     "text": [
      "INFO:tensorflow:Assets written to: best_model_tomato23.kears\\assets\n"
     ]
    },
    {
     "name": "stdout",
     "output_type": "stream",
     "text": [
      "275/275 [==============================] - 1193s 4s/step - loss: 0.2326 - accuracy: 0.9220 - val_loss: 0.1012 - val_accuracy: 0.9718 - lr: 1.0000e-04\n",
      "Epoch 71/75\n",
      "275/275 [==============================] - 1251s 5s/step - loss: 0.2324 - accuracy: 0.9256 - val_loss: 0.1316 - val_accuracy: 0.9595 - lr: 1.0000e-04\n",
      "Epoch 72/75\n",
      "275/275 [==============================] - 1254s 5s/step - loss: 0.2361 - accuracy: 0.9270 - val_loss: 0.1259 - val_accuracy: 0.9650 - lr: 1.0000e-04\n",
      "Epoch 73/75\n",
      "275/275 [==============================] - 1249s 5s/step - loss: 0.2365 - accuracy: 0.9285 - val_loss: 0.1116 - val_accuracy: 0.9705 - lr: 1.0000e-04\n",
      "Epoch 74/75\n",
      "275/275 [==============================] - 1280s 5s/step - loss: 0.2281 - accuracy: 0.9272 - val_loss: 0.1117 - val_accuracy: 0.9673 - lr: 1.0000e-04\n",
      "Epoch 75/75\n",
      "275/275 [==============================] - ETA: 0s - loss: 0.2272 - accuracy: 0.9260INFO:tensorflow:Assets written to: best_model_tomato23.kears\\assets\n"
     ]
    },
    {
     "name": "stderr",
     "output_type": "stream",
     "text": [
      "INFO:tensorflow:Assets written to: best_model_tomato23.kears\\assets\n"
     ]
    },
    {
     "name": "stdout",
     "output_type": "stream",
     "text": [
      "275/275 [==============================] - 1273s 5s/step - loss: 0.2272 - accuracy: 0.9260 - val_loss: 0.0925 - val_accuracy: 0.9741 - lr: 1.0000e-04\n"
     ]
    }
   ],
   "source": [
    "history = model.fit(\n",
    "    train_generator,\n",
    "    epochs=75,  # Adjust based on model convergence\n",
    "    validation_data=validation_generator,\n",
    "    callbacks=[early_stopping, model_checkpoint, reduce_lr]\n",
    ")"
   ]
  },
  {
   "cell_type": "code",
   "execution_count": 10,
   "id": "93dc9712-5e79-481c-9018-77e88f6b7498",
   "metadata": {},
   "outputs": [
    {
     "name": "stdout",
     "output_type": "stream",
     "text": [
      "INFO:tensorflow:Assets written to: 120300_final.kears\\assets\n"
     ]
    },
    {
     "name": "stderr",
     "output_type": "stream",
     "text": [
      "INFO:tensorflow:Assets written to: 120300_final.kears\\assets\n"
     ]
    }
   ],
   "source": [
    "model.save(\"TomatoModel.kears\")"
   ]
  },
  {
   "cell_type": "code",
   "execution_count": 11,
   "id": "48bb8baf-3e5c-4dbf-9888-cba1deb1054c",
   "metadata": {},
   "outputs": [
    {
     "name": "stdout",
     "output_type": "stream",
     "text": [
      "Model: \"sequential\"\n",
      "_________________________________________________________________\n",
      " Layer (type)                Output Shape              Param #   \n",
      "=================================================================\n",
      " conv2d (Conv2D)             (None, 222, 222, 32)      896       \n",
      "                                                                 \n",
      " batch_normalization (Batch  (None, 222, 222, 32)      128       \n",
      " Normalization)                                                  \n",
      "                                                                 \n",
      " conv2d_1 (Conv2D)           (None, 220, 220, 64)      18496     \n",
      "                                                                 \n",
      " batch_normalization_1 (Bat  (None, 220, 220, 64)      256       \n",
      " chNormalization)                                                \n",
      "                                                                 \n",
      " max_pooling2d (MaxPooling2  (None, 110, 110, 64)      0         \n",
      " D)                                                              \n",
      "                                                                 \n",
      " conv2d_2 (Conv2D)           (None, 108, 108, 128)     73856     \n",
      "                                                                 \n",
      " batch_normalization_2 (Bat  (None, 108, 108, 128)     512       \n",
      " chNormalization)                                                \n",
      "                                                                 \n",
      " conv2d_3 (Conv2D)           (None, 106, 106, 128)     147584    \n",
      "                                                                 \n",
      " batch_normalization_3 (Bat  (None, 106, 106, 128)     512       \n",
      " chNormalization)                                                \n",
      "                                                                 \n",
      " max_pooling2d_1 (MaxPoolin  (None, 53, 53, 128)       0         \n",
      " g2D)                                                            \n",
      "                                                                 \n",
      " conv2d_4 (Conv2D)           (None, 51, 51, 256)       295168    \n",
      "                                                                 \n",
      " batch_normalization_4 (Bat  (None, 51, 51, 256)       1024      \n",
      " chNormalization)                                                \n",
      "                                                                 \n",
      " conv2d_5 (Conv2D)           (None, 49, 49, 256)       590080    \n",
      "                                                                 \n",
      " batch_normalization_5 (Bat  (None, 49, 49, 256)       1024      \n",
      " chNormalization)                                                \n",
      "                                                                 \n",
      " max_pooling2d_2 (MaxPoolin  (None, 24, 24, 256)       0         \n",
      " g2D)                                                            \n",
      "                                                                 \n",
      " conv2d_6 (Conv2D)           (None, 22, 22, 512)       1180160   \n",
      "                                                                 \n",
      " batch_normalization_6 (Bat  (None, 22, 22, 512)       2048      \n",
      " chNormalization)                                                \n",
      "                                                                 \n",
      " conv2d_7 (Conv2D)           (None, 20, 20, 512)       2359808   \n",
      "                                                                 \n",
      " batch_normalization_7 (Bat  (None, 20, 20, 512)       2048      \n",
      " chNormalization)                                                \n",
      "                                                                 \n",
      " max_pooling2d_3 (MaxPoolin  (None, 10, 10, 512)       0         \n",
      " g2D)                                                            \n",
      "                                                                 \n",
      " flatten (Flatten)           (None, 51200)             0         \n",
      "                                                                 \n",
      " dense (Dense)               (None, 512)               26214912  \n",
      "                                                                 \n",
      " dropout (Dropout)           (None, 512)               0         \n",
      "                                                                 \n",
      " dense_1 (Dense)             (None, 10)                5130      \n",
      "                                                                 \n",
      "=================================================================\n",
      "Total params: 30893642 (117.85 MB)\n",
      "Trainable params: 30889866 (117.84 MB)\n",
      "Non-trainable params: 3776 (14.75 KB)\n",
      "_________________________________________________________________\n"
     ]
    }
   ],
   "source": [
    "model.summary()"
   ]
  },
  {
   "cell_type": "code",
   "execution_count": 12,
   "id": "45ca7caf-19d0-4465-90b7-f3fc341a7981",
   "metadata": {},
   "outputs": [],
   "source": [
    "import pickle\n"
   ]
  },
  {
   "cell_type": "code",
   "execution_count": 13,
   "id": "603204de-93b5-4ba1-a1ec-297de3311cc7",
   "metadata": {},
   "outputs": [],
   "source": [
    "with open('model_history.pkl', 'wb') as file:\n",
    "    pickle.dump(history.history, file)"
   ]
  },
  {
   "cell_type": "markdown",
   "id": "eff25d34",
   "metadata": {},
   "source": []
  },
  {
   "cell_type": "code",
   "execution_count": 14,
   "id": "d7a5f4de-5941-4157-8201-ec8b7a8cdd1e",
   "metadata": {},
   "outputs": [
    {
     "name": "stderr",
     "output_type": "stream",
     "text": [
      "C:\\Users\\RE\\AppData\\Local\\Programs\\Python\\Python38\\lib\\site-packages\\keras\\src\\engine\\training.py:3000: UserWarning: You are saving your model as an HDF5 file via `model.save()`. This file format is considered legacy. We recommend using instead the native Keras format, e.g. `model.save('my_model.keras')`.\n",
      "  saving_api.save_model(\n"
     ]
    }
   ],
   "source": [
    "model.save(\"TomatoModel.h5\")"
   ]
  },
  {
   "cell_type": "code",
   "execution_count": 17,
   "id": "178b1fda-09db-4ace-b2c9-6c0b4eb58687",
   "metadata": {},
   "outputs": [],
   "source": [
    "from tensorflow.keras.models import load_model\n",
    "\n",
    "# Load the model from the .keras file\n",
    "model = load_model('TomatoModel.kears')\n",
    "\n"
   ]
  },
  {
   "cell_type": "code",
   "execution_count": 18,
   "id": "183dd29f-b31c-41c7-bdc7-3fd612c669c6",
   "metadata": {},
   "outputs": [],
   "source": [
    "model.save('TomatoModel.keras')"
   ]
  },
  {
   "cell_type": "code",
   "execution_count": null,
   "id": "2be29933-0b0a-4b75-aaa7-5ecd19a2c136",
   "metadata": {},
   "outputs": [],
   "source": []
  }
 ],
 "metadata": {
  "kernelspec": {
   "display_name": "Python 3 (ipykernel)",
   "language": "python",
   "name": "python3"
  },
  "language_info": {
   "codemirror_mode": {
    "name": "ipython",
    "version": 3
   },
   "file_extension": ".py",
   "mimetype": "text/x-python",
   "name": "python",
   "nbconvert_exporter": "python",
   "pygments_lexer": "ipython3",
   "version": "3.8.6"
  }
 },
 "nbformat": 4,
 "nbformat_minor": 5
}
